{
 "cells": [
  {
   "cell_type": "markdown",
   "metadata": {},
   "source": [
    "# Diet Problem"
   ]
  },
  {
   "cell_type": "markdown",
   "metadata": {},
   "source": [
    "The goal of the Diet Problem is to select foods that satisfy daily nutritional requirements at minimum cost. \n",
    "\n",
    "This problem can be formulated as a linear program, for which constraints limit the number of calories and the amount of vitamins, minerals, fats, sodium, and cholesterol in the diet.\n",
    "\n",
    "[Danzig (1990)](G.B. Dantzig. The Diet Problem, Interfaces 20(4), 1990, 43-47)  notes that the diet problem was motivated by the US Army's desire to minimize the cost of feeding GIs in the field while still providing a healthy diet.\n"
   ]
  },
  {
   "cell_type": "markdown",
   "metadata": {},
   "source": [
    "<img src = 'diet2.jpg'>"
   ]
  },
  {
   "cell_type": "code",
   "execution_count": null,
   "metadata": {},
   "outputs": [],
   "source": []
  },
  {
   "cell_type": "markdown",
   "metadata": {},
   "source": [
    "<img src='diet1.png'>"
   ]
  },
  {
   "cell_type": "markdown",
   "metadata": {},
   "source": [
    "## Lower and upper bound on each nutrient on daily basis"
   ]
  },
  {
   "cell_type": "markdown",
   "metadata": {},
   "source": [
    "| Nutrion    |  Nmin    | Nmax     |\n",
    "|--------|------|------|\n",
    "| Cal     |   2000     |  |\n",
    "| Carbo  |   350    |375     |\n",
    "| Protein |   55     |  |\n",
    "| VitA    |  100     |  |\n",
    "| VitC    |  100     |  |\n",
    "| Calc    |  100    |   |\n",
    "| Iron    |  100   |    |"
   ]
  },
  {
   "cell_type": "markdown",
   "metadata": {},
   "source": [
    "## Cost and volumn of each food per serving"
   ]
  },
  {
   "cell_type": "markdown",
   "metadata": {},
   "source": [
    "| Food             | Cost | Volumn |\n",
    "|------------------|------|------|\n",
    "| Cheeseburger     | 1.84 | 4.0  |\n",
    "| Ham Sandwich     | 2.19 | 7.5  |\n",
    "| Hamburger        | 1.84 | 3.5  |\n",
    "| Fish Sandwich    | 1.44 | 5.0  |\n",
    "| Chicken Sandwich | 2.29 | 7.3  |\n",
    "| Fries            | .77  | 2.6  |\n",
    "| Sausage Biscuit  | 1.29 | 4.1  |\n",
    "| Lowfat Milk      | .60  | 8.0  |\n",
    "| Orange Juice     | .72  | 12.0 |\n"
   ]
  },
  {
   "cell_type": "markdown",
   "metadata": {},
   "source": [
    "## Amount of nutrient in each food "
   ]
  },
  {
   "cell_type": "markdown",
   "metadata": {},
   "source": [
    "| Food             | Carbo | Protein | VitA | VitC | Calc | Iron | Cal |\n",
    "|------------------|-------|---------|------|------|------|------|-----|\n",
    "| Cheeseburger     | 510   | 34      | 28   | 15   | 6    | 30   | 20  |\n",
    "| Ham Sandwich     | 370   | 35      | 24   | 15   | 10   | 20   | 20  |\n",
    "| Hamburger        | 500   | 42      | 25   | 6    | 2    | 25   | 20  |\n",
    "| Fish Sandwich    | 370   | 38      | 14   | 2    | 0    | 15   | 10  |\n",
    "| Chicken Sandwich | 400   | 42      | 31   | 8    | 15   | 15   | 8   |\n",
    "| Fries            | 220   | 26      | 3    | 0    | 15   | 0    | 2   |\n",
    "| Sausage Biscuit  | 345   | 27      | 15   | 4    | 0    | 20   | 15  |\n",
    "| Lowfat Milk      | 110   | 12      | 9    | 10   | 4    | 30   | 0   |\n",
    "| Orange Juice     | 80    | 20      | 1    | 2    | 120  | 2    | 2   |"
   ]
  },
  {
   "cell_type": "markdown",
   "metadata": {},
   "source": [
    "## Set \n",
    "F = set of food\n",
    "\n",
    "N = set of nutrients"
   ]
  },
  {
   "cell_type": "markdown",
   "metadata": {},
   "source": [
    "## Parameters\n",
    "$c_i$ = cost of per serving of food $i$, $\\forall i \\in F$\n",
    "\n",
    "$a_{ij}$ = amount of nutrient $j$ in food $i$, $\\forall i \\in F, \\forall j \\in N$\n",
    "\n",
    "$Nmin_j$ = minimum level of nutrient $j$, $\\forall j \\in N$\n",
    "\n",
    "$Nmax_j$ = maximum level of nutrient $j$, $\\forall j \\in N$\n",
    "\n",
    "$V_i$ = the volume per serving of food $i$, $\\forall i \\in F$\n",
    "\n",
    "$Vmax$ = maximum volume of food consumed\n"
   ]
  },
  {
   "cell_type": "markdown",
   "metadata": {},
   "source": [
    "## Variables\n",
    "$x_i=$ number of servings of food i to consume "
   ]
  },
  {
   "cell_type": "markdown",
   "metadata": {},
   "source": [
    "## Ojective\n",
    "Minimize the total cost of the food\n",
    "\n",
    "$\\min \\sum_{i \\in F} c_i x_i$"
   ]
  },
  {
   "cell_type": "markdown",
   "metadata": {},
   "source": [
    "## constraints\n",
    "1. limit the nutritent for each nutrient:\n",
    "\n",
    "$Nmin_j \\leq  \\sum_{i\\in F} x_i * a_{i,j} \\leq Nmax_j,   \\forall j \\in N $"
   ]
  },
  {
   "cell_type": "markdown",
   "metadata": {},
   "source": [
    "2. Limit the volumn of the total food consumed\n",
    "\n",
    "$\\sum_{i\\in F} V_i x_i \\leq Vmax $"
   ]
  },
  {
   "cell_type": "markdown",
   "metadata": {},
   "source": [
    "## Model formation\n"
   ]
  },
  {
   "cell_type": "code",
   "execution_count": 28,
   "metadata": {},
   "outputs": [],
   "source": [
    "from pyomo.environ import *"
   ]
  },
  {
   "cell_type": "code",
   "execution_count": 29,
   "metadata": {},
   "outputs": [],
   "source": [
    "# input data\n",
    "import pandas as pd \n",
    "model = ConcreteModel()\n",
    "nutrient_df = pd.read_csv(\"nutrient.csv\", index_col = 'Food')\n"
   ]
  },
  {
   "cell_type": "code",
   "execution_count": 30,
   "metadata": {},
   "outputs": [],
   "source": [
    "# sets\n",
    "model.set_food = Set(initialize = nutrient_df.index)\n",
    "model.set_nutrient = Set(initialize = nutrient_df.columns)"
   ]
  },
  {
   "cell_type": "code",
   "execution_count": 31,
   "metadata": {},
   "outputs": [],
   "source": [
    "# parameters nutrient:\n",
    "nutrient = nutrient_df.stack().to_dict()\n",
    "model.nutrient = Param(model.set_food, model.set_nutrient,\n",
    "                      initialize = nutrient)"
   ]
  },
  {
   "cell_type": "code",
   "execution_count": 32,
   "metadata": {},
   "outputs": [
    {
     "name": "stdout",
     "output_type": "stream",
     "text": [
      "<class 'numpy.ndarray'>\n"
     ]
    }
   ],
   "source": [
    "# parameters： lower and upper bound nutrients\n",
    "Nmin = [2000, 350, 55, 100, 100, 100, 100]    \n",
    "Nmax = [None, 350, None, None, None, None, None]    \n",
    "\n",
    "# replace None with Inf \n",
    "import numpy as np\n",
    "\n",
    "Nmin = np.array(Nmin)\n",
    "Nmax = np.array(Nmax)\n",
    "\n",
    "print(type(Nmin))\n",
    "Nmax[Nmax==None] = float('inf')\n",
    "\n",
    "Nmin = dict(zip(nutrient_df.columns, Nmin))\n",
    "Nmax = dict(zip(nutrient_df.columns, Nmax))\n",
    "\n",
    "\n",
    "model.Nmin = Param(model.set_nutrient, initialize = Nmin)\n",
    "model.Nmax = Param(model.set_nutrient, initialize = Nmax)\n"
   ]
  },
  {
   "cell_type": "code",
   "execution_count": 33,
   "metadata": {},
   "outputs": [],
   "source": [
    "# parameter: Volumn\n",
    "\n",
    "max_volumn = 75"
   ]
  },
  {
   "cell_type": "code",
   "execution_count": 34,
   "metadata": {},
   "outputs": [],
   "source": [
    "#parameters： Cost and Volumn of food per serving\n",
    "Cost = [1.84, 2.19, 1.84, 1.44, 2.29, 0.77, 1.29, 0.60, 0.72]\n",
    "Volumn = [4, 7.5, 3.5, 5, 7.3, 2.6, 4.1, 8, 12]\n",
    "\n",
    "Cost = dict(zip(nutrient_df.index,   Cost))\n",
    "Volumn = dict(zip(nutrient_df.index, Volumn))\n",
    "\n",
    "model.Cost = Param(model.set_food, initialize = Cost)\n",
    "model.Volumn = Param(model.set_food, initialize = Volumn)"
   ]
  },
  {
   "cell_type": "code",
   "execution_count": 35,
   "metadata": {},
   "outputs": [],
   "source": [
    "# Variables\n",
    "model.x = Var(model.set_food, domain = NonNegativeIntegers)"
   ]
  },
  {
   "cell_type": "code",
   "execution_count": 19,
   "metadata": {},
   "outputs": [],
   "source": [
    "# Objetives\n",
    "def _obj(model):\n",
    "    return summation(model.Cost, model.x) # sum_product no *\n",
    "\n",
    "# alternative way\n",
    "# def _obj(model):\n",
    "#     return sum(model.Cost[i] * model.x[i] for i in model.set_food)\n",
    "\n",
    "model.obj = Objective(rule = _obj, sense = minimize)\n"
   ]
  },
  {
   "cell_type": "code",
   "execution_count": 36,
   "metadata": {},
   "outputs": [],
   "source": [
    "# Constraints:\n",
    "# up/low bound\n",
    "def _con_nutrient(model, j):\n",
    "    value = sum(model.x[i] * model.nutrient[i,j] for i in model.set_food)\n",
    "#     return  model.Nmin[j] <= value <= model.Nmax[j] \n",
    "    return inequality(model.Nmin[j], value, model.Nmax[j])\n",
    "\n",
    "model._rule_nutrient = Constraint(model.set_nutrient, rule = _con_nutrient)\n",
    "\n"
   ]
  },
  {
   "cell_type": "code",
   "execution_count": 37,
   "metadata": {},
   "outputs": [
    {
     "name": "stdout",
     "output_type": "stream",
     "text": [
      "3 Set Declarations\n",
      "    nutrient_index : Dim=0, Dimen=2, Size=63, Domain=None, Ordered=False, Bounds=None\n",
      "        Virtual\n",
      "    set_food : Dim=0, Dimen=1, Size=9, Domain=None, Ordered=False, Bounds=None\n",
      "        ['Cheeseburger', 'Chicken Sandwich', 'Fish Sandwich', 'Fries', 'Ham Sandwich', 'Hamburger', 'Lowfat Milk', 'Orange Juice', 'Sausage Biscuit']\n",
      "    set_nutrient : Dim=0, Dimen=1, Size=7, Domain=None, Ordered=False, Bounds=None\n",
      "        ['Cal', 'Calc', 'Carbo', 'Iron', 'Protein', 'VitA', 'VitC']\n",
      "\n",
      "5 Param Declarations\n",
      "    Cost : Size=9, Index=set_food, Domain=Any, Default=None, Mutable=False\n",
      "        Key              : Value\n",
      "            Cheeseburger :  1.84\n",
      "        Chicken Sandwich :  2.29\n",
      "           Fish Sandwich :  1.44\n",
      "                   Fries :  0.77\n",
      "            Ham Sandwich :  2.19\n",
      "               Hamburger :  1.84\n",
      "             Lowfat Milk :   0.6\n",
      "            Orange Juice :  0.72\n",
      "         Sausage Biscuit :  1.29\n",
      "    Nmax : Size=7, Index=set_nutrient, Domain=Any, Default=None, Mutable=False\n",
      "        Key     : Value\n",
      "            Cal :   inf\n",
      "           Calc :   inf\n",
      "          Carbo :   inf\n",
      "           Iron :   inf\n",
      "        Protein :   350\n",
      "           VitA :   inf\n",
      "           VitC :   inf\n",
      "    Nmin : Size=7, Index=set_nutrient, Domain=Any, Default=None, Mutable=False\n",
      "        Key     : Value\n",
      "            Cal :   100\n",
      "           Calc :   100\n",
      "          Carbo :  2000\n",
      "           Iron :   100\n",
      "        Protein :   350\n",
      "           VitA :    55\n",
      "           VitC :   100\n",
      "    Volumn : Size=9, Index=set_food, Domain=Any, Default=None, Mutable=False\n",
      "        Key              : Value\n",
      "            Cheeseburger :     4\n",
      "        Chicken Sandwich :   7.3\n",
      "           Fish Sandwich :     5\n",
      "                   Fries :   2.6\n",
      "            Ham Sandwich :   7.5\n",
      "               Hamburger :   3.5\n",
      "             Lowfat Milk :     8\n",
      "            Orange Juice :    12\n",
      "         Sausage Biscuit :   4.1\n",
      "    nutrient : Size=63, Index=nutrient_index, Domain=Any, Default=None, Mutable=False\n",
      "        Key                             : Value\n",
      "                ('Cheeseburger', 'Cal') :    20\n",
      "               ('Cheeseburger', 'Calc') :     6\n",
      "              ('Cheeseburger', 'Carbo') :   510\n",
      "               ('Cheeseburger', 'Iron') :    30\n",
      "            ('Cheeseburger', 'Protein') :    34\n",
      "               ('Cheeseburger', 'VitA') :    28\n",
      "               ('Cheeseburger', 'VitC') :    15\n",
      "            ('Chicken Sandwich', 'Cal') :     8\n",
      "           ('Chicken Sandwich', 'Calc') :    15\n",
      "          ('Chicken Sandwich', 'Carbo') :   400\n",
      "           ('Chicken Sandwich', 'Iron') :    15\n",
      "        ('Chicken Sandwich', 'Protein') :    42\n",
      "           ('Chicken Sandwich', 'VitA') :    31\n",
      "           ('Chicken Sandwich', 'VitC') :     8\n",
      "               ('Fish Sandwich', 'Cal') :    10\n",
      "              ('Fish Sandwich', 'Calc') :     0\n",
      "             ('Fish Sandwich', 'Carbo') :   370\n",
      "              ('Fish Sandwich', 'Iron') :    15\n",
      "           ('Fish Sandwich', 'Protein') :    38\n",
      "              ('Fish Sandwich', 'VitA') :    14\n",
      "              ('Fish Sandwich', 'VitC') :     2\n",
      "                       ('Fries', 'Cal') :     2\n",
      "                      ('Fries', 'Calc') :    15\n",
      "                     ('Fries', 'Carbo') :   220\n",
      "                      ('Fries', 'Iron') :     0\n",
      "                   ('Fries', 'Protein') :    26\n",
      "                      ('Fries', 'VitA') :     3\n",
      "                      ('Fries', 'VitC') :     0\n",
      "                ('Ham Sandwich', 'Cal') :    20\n",
      "               ('Ham Sandwich', 'Calc') :    10\n",
      "              ('Ham Sandwich', 'Carbo') :   370\n",
      "               ('Ham Sandwich', 'Iron') :    20\n",
      "            ('Ham Sandwich', 'Protein') :    35\n",
      "               ('Ham Sandwich', 'VitA') :    24\n",
      "               ('Ham Sandwich', 'VitC') :    15\n",
      "                   ('Hamburger', 'Cal') :    20\n",
      "                  ('Hamburger', 'Calc') :     2\n",
      "                 ('Hamburger', 'Carbo') :   500\n",
      "                  ('Hamburger', 'Iron') :    25\n",
      "               ('Hamburger', 'Protein') :    42\n",
      "                  ('Hamburger', 'VitA') :    25\n",
      "                  ('Hamburger', 'VitC') :     6\n",
      "                 ('Lowfat Milk', 'Cal') :     0\n",
      "                ('Lowfat Milk', 'Calc') :     4\n",
      "               ('Lowfat Milk', 'Carbo') :   110\n",
      "                ('Lowfat Milk', 'Iron') :    30\n",
      "             ('Lowfat Milk', 'Protein') :    12\n",
      "                ('Lowfat Milk', 'VitA') :     9\n",
      "                ('Lowfat Milk', 'VitC') :    10\n",
      "                ('Orange Juice', 'Cal') :     2\n",
      "               ('Orange Juice', 'Calc') :   120\n",
      "              ('Orange Juice', 'Carbo') :    80\n",
      "               ('Orange Juice', 'Iron') :     2\n",
      "            ('Orange Juice', 'Protein') :    20\n",
      "               ('Orange Juice', 'VitA') :     1\n",
      "               ('Orange Juice', 'VitC') :     2\n",
      "             ('Sausage Biscuit', 'Cal') :    15\n",
      "            ('Sausage Biscuit', 'Calc') :     0\n",
      "           ('Sausage Biscuit', 'Carbo') :   345\n",
      "            ('Sausage Biscuit', 'Iron') :    20\n",
      "         ('Sausage Biscuit', 'Protein') :    27\n",
      "            ('Sausage Biscuit', 'VitA') :    15\n",
      "            ('Sausage Biscuit', 'VitC') :     4\n",
      "\n",
      "1 Var Declarations\n",
      "    x : Size=9, Index=set_food\n",
      "        Key              : Lower : Value : Upper : Fixed : Stale : Domain\n",
      "            Cheeseburger :     0 :  None :  None : False :  True : NonNegativeIntegers\n",
      "        Chicken Sandwich :     0 :  None :  None : False :  True : NonNegativeIntegers\n",
      "           Fish Sandwich :     0 :  None :  None : False :  True : NonNegativeIntegers\n",
      "                   Fries :     0 :  None :  None : False :  True : NonNegativeIntegers\n",
      "            Ham Sandwich :     0 :  None :  None : False :  True : NonNegativeIntegers\n",
      "               Hamburger :     0 :  None :  None : False :  True : NonNegativeIntegers\n",
      "             Lowfat Milk :     0 :  None :  None : False :  True : NonNegativeIntegers\n",
      "            Orange Juice :     0 :  None :  None : False :  True : NonNegativeIntegers\n",
      "         Sausage Biscuit :     0 :  None :  None : False :  True : NonNegativeIntegers\n",
      "\n",
      "1 Constraint Declarations\n",
      "    _rule_nutrient : Size=7, Index=set_nutrient, Active=True\n",
      "        Key     : Lower  : Body                                                                                                                                                                                            : Upper : Active\n",
      "            Cal :  100.0 :                                20*x[Cheeseburger] + 20*x[Ham Sandwich] + 20*x[Hamburger] + 10*x[Fish Sandwich] + 8*x[Chicken Sandwich] + 2*x[Fries] + 15*x[Sausage Biscuit] + 2*x[Orange Juice] :  +Inf :   True\n",
      "           Calc :  100.0 :                                                         6*x[Cheeseburger] + 10*x[Ham Sandwich] + 2*x[Hamburger] + 15*x[Chicken Sandwich] + 15*x[Fries] + 4*x[Lowfat Milk] + 120*x[Orange Juice] :  +Inf :   True\n",
      "          Carbo : 2000.0 : 510*x[Cheeseburger] + 370*x[Ham Sandwich] + 500*x[Hamburger] + 370*x[Fish Sandwich] + 400*x[Chicken Sandwich] + 220*x[Fries] + 345*x[Sausage Biscuit] + 110*x[Lowfat Milk] + 80*x[Orange Juice] :  +Inf :   True\n",
      "           Iron :  100.0 :                        30*x[Cheeseburger] + 20*x[Ham Sandwich] + 25*x[Hamburger] + 15*x[Fish Sandwich] + 15*x[Chicken Sandwich] + 20*x[Sausage Biscuit] + 30*x[Lowfat Milk] + 2*x[Orange Juice] :  +Inf :   True\n",
      "        Protein :  350.0 :         34*x[Cheeseburger] + 35*x[Ham Sandwich] + 42*x[Hamburger] + 38*x[Fish Sandwich] + 42*x[Chicken Sandwich] + 26*x[Fries] + 27*x[Sausage Biscuit] + 12*x[Lowfat Milk] + 20*x[Orange Juice] : 350.0 :   True\n",
      "           VitA :   55.0 :              28*x[Cheeseburger] + 24*x[Ham Sandwich] + 25*x[Hamburger] + 14*x[Fish Sandwich] + 31*x[Chicken Sandwich] + 3*x[Fries] + 15*x[Sausage Biscuit] + 9*x[Lowfat Milk] + x[Orange Juice] :  +Inf :   True\n",
      "           VitC :  100.0 :                            15*x[Cheeseburger] + 15*x[Ham Sandwich] + 6*x[Hamburger] + 2*x[Fish Sandwich] + 8*x[Chicken Sandwich] + 4*x[Sausage Biscuit] + 10*x[Lowfat Milk] + 2*x[Orange Juice] :  +Inf :   True\n",
      "\n",
      "10 Declarations: set_food set_nutrient nutrient_index nutrient Nmin Nmax Cost Volumn x _rule_nutrient\n"
     ]
    }
   ],
   "source": [
    "model.pprint()"
   ]
  },
  {
   "cell_type": "code",
   "execution_count": 21,
   "metadata": {},
   "outputs": [],
   "source": [
    "# Constraints:\n",
    "# volumn capacity\n",
    "def _con_volumn(model):\n",
    "#     return summation(model.x, model.Volumn) <= model.max_volumn\n",
    "    return sum(model.x[i]*model.Volumn[i] for i in model.set_food) <= max_volumn\n",
    "\n",
    "model._rule_volumn= Constraint(rule = _con_volumn)"
   ]
  },
  {
   "cell_type": "code",
   "execution_count": 22,
   "metadata": {},
   "outputs": [
    {
     "name": "stdout",
     "output_type": "stream",
     "text": [
      "Welcome to the CBC MILP Solver \n",
      "Version: 2.10.3 \n",
      "Build Date: Sep 10 2019 \n",
      "\n",
      "command line - /home/kon6750/miniconda3/bin/cbc -printingOptions all -import /tmp/tmpt3dyva40.pyomo.lp -stat=1 -solve -solu /tmp/tmpt3dyva40.pyomo.soln (default strategy 1)\n",
      "Option for printingOptions changed from normal to all\n",
      "Presolve 9 (-1) rows, 9 (-1) columns and 76 (-1) elements\n",
      "Statistics for presolved model\n",
      "Original problem has 9 integers (0 of which binary)\n",
      "Presolved problem has 9 integers (0 of which binary)\n",
      "==== 0 zero objective 8 different\n",
      "1 variables have objective of 0.6\n",
      "1 variables have objective of 0.72\n",
      "1 variables have objective of 0.77\n",
      "1 variables have objective of 1.29\n",
      "1 variables have objective of 1.44\n",
      "2 variables have objective of 1.84\n",
      "1 variables have objective of 2.19\n",
      "1 variables have objective of 2.29\n",
      "==== absolute objective values 8 different\n",
      "1 variables have objective of 0.6\n",
      "1 variables have objective of 0.72\n",
      "1 variables have objective of 0.77\n",
      "1 variables have objective of 1.29\n",
      "1 variables have objective of 1.44\n",
      "2 variables have objective of 1.84\n",
      "1 variables have objective of 2.19\n",
      "1 variables have objective of 2.29\n",
      "==== for integers 0 zero objective 8 different\n",
      "1 variables have objective of 0.6\n",
      "1 variables have objective of 0.72\n",
      "1 variables have objective of 0.77\n",
      "1 variables have objective of 1.29\n",
      "1 variables have objective of 1.44\n",
      "2 variables have objective of 1.84\n",
      "1 variables have objective of 2.19\n",
      "1 variables have objective of 2.29\n",
      "==== for integers absolute objective values 8 different\n",
      "1 variables have objective of 0.6\n",
      "1 variables have objective of 0.72\n",
      "1 variables have objective of 0.77\n",
      "1 variables have objective of 1.29\n",
      "1 variables have objective of 1.44\n",
      "2 variables have objective of 1.84\n",
      "1 variables have objective of 2.19\n",
      "1 variables have objective of 2.29\n",
      "===== end objective counts\n",
      "\n",
      "\n",
      "Problem has 9 rows, 9 columns (9 with objective) and 76 elements\n",
      "Column breakdown:\n",
      "9 of type 0.0->inf, 0 of type 0.0->up, 0 of type lo->inf, \n",
      "0 of type lo->up, 0 of type free, 0 of type fixed, \n",
      "0 of type -inf->0.0, 0 of type -inf->up, 0 of type 0.0->1.0 \n",
      "Row breakdown:\n",
      "0 of type E 0.0, 0 of type E 1.0, 0 of type E -1.0, \n",
      "0 of type E other, 0 of type G 0.0, 0 of type G 1.0, \n",
      "7 of type G other, 0 of type L 0.0, 0 of type L 1.0, \n",
      "2 of type L other, 0 of type Range 0.0->1.0, 0 of type Range other, \n",
      "0 of type Free \n",
      "Continuous objective value is 14.8557 - 0.00 seconds\n",
      "Cgl0003I 0 fixed, 0 tightened bounds, 1 strengthened rows, 0 substitutions\n",
      "Cgl0004I processed model has 8 rows, 9 columns (9 integer (0 of which binary)) and 67 elements\n",
      "Cutoff increment increased from 1e-05 to 0.00999\n",
      "Cbc0031I 5 added rows had average density of 9\n",
      "Cbc0013I At root node, 5 cuts changed objective from 14.855738 to 14.993838 in 100 passes\n",
      "Cbc0014I Cut generator 0 (Probing) - 0 row cuts average 0.0 elements, 0 column cuts (0 active)  in 0.013 seconds - new frequency is -100\n",
      "Cbc0014I Cut generator 1 (Gomory) - 224 row cuts average 9.0 elements, 0 column cuts (0 active)  in 0.022 seconds - new frequency is 1\n",
      "Cbc0014I Cut generator 2 (Knapsack) - 0 row cuts average 0.0 elements, 0 column cuts (0 active)  in 0.005 seconds - new frequency is -100\n",
      "Cbc0014I Cut generator 3 (Clique) - 0 row cuts average 0.0 elements, 0 column cuts (0 active)  in 0.001 seconds - new frequency is -100\n",
      "Cbc0014I Cut generator 4 (MixedIntegerRounding2) - 0 row cuts average 0.0 elements, 0 column cuts (0 active)  in 0.013 seconds - new frequency is -100\n",
      "Cbc0014I Cut generator 5 (FlowCover) - 0 row cuts average 0.0 elements, 0 column cuts (0 active)  in 0.054 seconds - new frequency is -100\n",
      "Cbc0014I Cut generator 6 (TwoMirCuts) - 32 row cuts average 8.9 elements, 0 column cuts (0 active)  in 0.012 seconds - new frequency is 1\n",
      "Cbc0010I After 0 nodes, 1 on tree, 1e+50 best solution, best possible 14.993838 (0.23 seconds)\n",
      "Cbc0012I Integer solution of 15.4 found by DiveCoefficient after 471 iterations and 3 nodes (0.26 seconds)\n",
      "Cbc0038I Full problem 8 rows 9 columns, reduced to 5 rows 6 columns\n",
      "Cbc0016I Integer solution of 15.28 found by strong branching after 561 iterations and 6 nodes (0.33 seconds)\n",
      "Cbc0001I Search completed - best objective 15.28, took 620 iterations and 11 nodes (0.35 seconds)\n",
      "Cbc0032I Strong branching done 70 times (171 iterations), fathomed 0 nodes and fixed 3 variables\n",
      "Cbc0035I Maximum depth 4, 3 variables fixed on reduced cost\n",
      "Cuts at root node changed objective from 14.8557 to 14.9938\n",
      "Probing was tried 100 times and created 0 cuts of which 0 were active after adding rounds of cuts (0.013 seconds)\n",
      "Gomory was tried 147 times and created 323 cuts of which 0 were active after adding rounds of cuts (0.027 seconds)\n",
      "Knapsack was tried 100 times and created 0 cuts of which 0 were active after adding rounds of cuts (0.005 seconds)\n",
      "Clique was tried 100 times and created 0 cuts of which 0 were active after adding rounds of cuts (0.001 seconds)\n",
      "MixedIntegerRounding2 was tried 100 times and created 0 cuts of which 0 were active after adding rounds of cuts (0.013 seconds)\n",
      "FlowCover was tried 100 times and created 0 cuts of which 0 were active after adding rounds of cuts (0.054 seconds)\n",
      "TwoMirCuts was tried 147 times and created 122 cuts of which 0 were active after adding rounds of cuts (0.017 seconds)\n",
      "ZeroHalf was tried 1 times and created 0 cuts of which 0 were active after adding rounds of cuts (0.000 seconds)\n",
      "\n",
      "Result - Optimal solution found\n",
      "\n",
      "Objective value:                15.28000000\n",
      "Enumerated nodes:               11\n",
      "Total iterations:               620\n",
      "Time (CPU seconds):             0.35\n",
      "Time (Wallclock seconds):       0.22\n",
      "\n",
      "Total time (CPU seconds):       0.36   (Wallclock seconds):       0.22\n",
      "\n"
     ]
    },
    {
     "data": {
      "text/plain": [
       "{'Problem': [{'Name': 'unknown', 'Lower bound': 15.28, 'Upper bound': 15.28, 'Number of objectives': 1, 'Number of constraints': 9, 'Number of variables': 9, 'Number of binary variables': 0, 'Number of integer variables': 9, 'Number of nonzeros': 9, 'Sense': 'minimize'}], 'Solver': [{'Status': 'ok', 'User time': -1.0, 'System time': 0.36, 'Wallclock time': 0.22, 'Termination condition': 'optimal', 'Termination message': 'Model was solved to optimality (subject to tolerances), and an optimal solution is available.', 'Statistics': {'Branch and bound': {'Number of bounded subproblems': 11, 'Number of created subproblems': 11}, 'Black box': {'Number of iterations': 620}}, 'Error rc': 0, 'Time': 0.3208956718444824}], 'Solution': [OrderedDict([('number of solutions', 0), ('number of solutions displayed', 0)])]}"
      ]
     },
     "execution_count": 22,
     "metadata": {},
     "output_type": "execute_result"
    }
   ],
   "source": [
    "solver=SolverFactory(\"cbc\")\n",
    "solver.solve(model,tee=True)\n"
   ]
  },
  {
   "cell_type": "code",
   "execution_count": 23,
   "metadata": {},
   "outputs": [
    {
     "name": "stdout",
     "output_type": "stream",
     "text": [
      "3 Set Declarations\n",
      "    nutrient_index : Dim=0, Dimen=2, Size=63, Domain=None, Ordered=False, Bounds=None\n",
      "        Virtual\n",
      "    set_food : Dim=0, Dimen=1, Size=9, Domain=None, Ordered=False, Bounds=None\n",
      "        ['Cheeseburger', 'Chicken Sandwich', 'Fish Sandwich', 'Fries', 'Ham Sandwich', 'Hamburger', 'Lowfat Milk', 'Orange Juice', 'Sausage Biscuit']\n",
      "    set_nutrient : Dim=0, Dimen=1, Size=7, Domain=None, Ordered=False, Bounds=None\n",
      "        ['Cal', 'Calc', 'Carbo', 'Iron', 'Protein', 'VitA', 'VitC']\n",
      "\n",
      "5 Param Declarations\n",
      "    Cost : Size=9, Index=set_food, Domain=Any, Default=None, Mutable=False\n",
      "        Key              : Value\n",
      "            Cheeseburger :  1.84\n",
      "        Chicken Sandwich :  2.29\n",
      "           Fish Sandwich :  1.44\n",
      "                   Fries :  0.77\n",
      "            Ham Sandwich :  2.19\n",
      "               Hamburger :  1.84\n",
      "             Lowfat Milk :   0.6\n",
      "            Orange Juice :  0.72\n",
      "         Sausage Biscuit :  1.29\n",
      "    Nmax : Size=7, Index=set_nutrient, Domain=Any, Default=None, Mutable=False\n",
      "        Key     : Value\n",
      "            Cal :   inf\n",
      "           Calc :   inf\n",
      "          Carbo :   inf\n",
      "           Iron :   inf\n",
      "        Protein :   350\n",
      "           VitA :   inf\n",
      "           VitC :   inf\n",
      "    Nmin : Size=7, Index=set_nutrient, Domain=Any, Default=None, Mutable=False\n",
      "        Key     : Value\n",
      "            Cal :   100\n",
      "           Calc :   100\n",
      "          Carbo :  2000\n",
      "           Iron :   100\n",
      "        Protein :   350\n",
      "           VitA :    55\n",
      "           VitC :   100\n",
      "    Volumn : Size=9, Index=set_food, Domain=Any, Default=None, Mutable=False\n",
      "        Key              : Value\n",
      "            Cheeseburger :     4\n",
      "        Chicken Sandwich :   7.3\n",
      "           Fish Sandwich :     5\n",
      "                   Fries :   2.6\n",
      "            Ham Sandwich :   7.5\n",
      "               Hamburger :   3.5\n",
      "             Lowfat Milk :     8\n",
      "            Orange Juice :    12\n",
      "         Sausage Biscuit :   4.1\n",
      "    nutrient : Size=63, Index=nutrient_index, Domain=Any, Default=None, Mutable=False\n",
      "        Key                             : Value\n",
      "                ('Cheeseburger', 'Cal') :    20\n",
      "               ('Cheeseburger', 'Calc') :     6\n",
      "              ('Cheeseburger', 'Carbo') :   510\n",
      "               ('Cheeseburger', 'Iron') :    30\n",
      "            ('Cheeseburger', 'Protein') :    34\n",
      "               ('Cheeseburger', 'VitA') :    28\n",
      "               ('Cheeseburger', 'VitC') :    15\n",
      "            ('Chicken Sandwich', 'Cal') :     8\n",
      "           ('Chicken Sandwich', 'Calc') :    15\n",
      "          ('Chicken Sandwich', 'Carbo') :   400\n",
      "           ('Chicken Sandwich', 'Iron') :    15\n",
      "        ('Chicken Sandwich', 'Protein') :    42\n",
      "           ('Chicken Sandwich', 'VitA') :    31\n",
      "           ('Chicken Sandwich', 'VitC') :     8\n",
      "               ('Fish Sandwich', 'Cal') :    10\n",
      "              ('Fish Sandwich', 'Calc') :     0\n",
      "             ('Fish Sandwich', 'Carbo') :   370\n",
      "              ('Fish Sandwich', 'Iron') :    15\n",
      "           ('Fish Sandwich', 'Protein') :    38\n",
      "              ('Fish Sandwich', 'VitA') :    14\n",
      "              ('Fish Sandwich', 'VitC') :     2\n",
      "                       ('Fries', 'Cal') :     2\n",
      "                      ('Fries', 'Calc') :    15\n",
      "                     ('Fries', 'Carbo') :   220\n",
      "                      ('Fries', 'Iron') :     0\n",
      "                   ('Fries', 'Protein') :    26\n",
      "                      ('Fries', 'VitA') :     3\n",
      "                      ('Fries', 'VitC') :     0\n",
      "                ('Ham Sandwich', 'Cal') :    20\n",
      "               ('Ham Sandwich', 'Calc') :    10\n",
      "              ('Ham Sandwich', 'Carbo') :   370\n",
      "               ('Ham Sandwich', 'Iron') :    20\n",
      "            ('Ham Sandwich', 'Protein') :    35\n",
      "               ('Ham Sandwich', 'VitA') :    24\n",
      "               ('Ham Sandwich', 'VitC') :    15\n",
      "                   ('Hamburger', 'Cal') :    20\n",
      "                  ('Hamburger', 'Calc') :     2\n",
      "                 ('Hamburger', 'Carbo') :   500\n",
      "                  ('Hamburger', 'Iron') :    25\n",
      "               ('Hamburger', 'Protein') :    42\n",
      "                  ('Hamburger', 'VitA') :    25\n",
      "                  ('Hamburger', 'VitC') :     6\n",
      "                 ('Lowfat Milk', 'Cal') :     0\n",
      "                ('Lowfat Milk', 'Calc') :     4\n",
      "               ('Lowfat Milk', 'Carbo') :   110\n",
      "                ('Lowfat Milk', 'Iron') :    30\n",
      "             ('Lowfat Milk', 'Protein') :    12\n",
      "                ('Lowfat Milk', 'VitA') :     9\n",
      "                ('Lowfat Milk', 'VitC') :    10\n",
      "                ('Orange Juice', 'Cal') :     2\n",
      "               ('Orange Juice', 'Calc') :   120\n",
      "              ('Orange Juice', 'Carbo') :    80\n",
      "               ('Orange Juice', 'Iron') :     2\n",
      "            ('Orange Juice', 'Protein') :    20\n",
      "               ('Orange Juice', 'VitA') :     1\n",
      "               ('Orange Juice', 'VitC') :     2\n",
      "             ('Sausage Biscuit', 'Cal') :    15\n",
      "            ('Sausage Biscuit', 'Calc') :     0\n",
      "           ('Sausage Biscuit', 'Carbo') :   345\n",
      "            ('Sausage Biscuit', 'Iron') :    20\n",
      "         ('Sausage Biscuit', 'Protein') :    27\n",
      "            ('Sausage Biscuit', 'VitA') :    15\n",
      "            ('Sausage Biscuit', 'VitC') :     4\n",
      "\n",
      "1 Var Declarations\n",
      "    x : Size=9, Index=set_food\n",
      "        Key              : Lower : Value : Upper : Fixed : Stale : Domain\n",
      "            Cheeseburger :     0 :   3.0 :  None : False : False : NonNegativeIntegers\n",
      "        Chicken Sandwich :     0 :   0.0 :  None : False : False : NonNegativeIntegers\n",
      "           Fish Sandwich :     0 :   0.0 :  None : False : False : NonNegativeIntegers\n",
      "                   Fries :     0 :   4.0 :  None : False : False : NonNegativeIntegers\n",
      "            Ham Sandwich :     0 :   0.0 :  None : False : False : NonNegativeIntegers\n",
      "               Hamburger :     0 :   2.0 :  None : False : False : NonNegativeIntegers\n",
      "             Lowfat Milk :     0 :   5.0 :  None : False : False : NonNegativeIntegers\n",
      "            Orange Juice :     0 :   0.0 :  None : False : False : NonNegativeIntegers\n",
      "         Sausage Biscuit :     0 :   0.0 :  None : False : False : NonNegativeIntegers\n",
      "\n",
      "1 Objective Declarations\n",
      "    obj : Size=1, Index=None, Active=True\n",
      "        Key  : Active : Sense    : Expression\n",
      "        None :   True : minimize : 1.84*x[Cheeseburger] + 2.19*x[Ham Sandwich] + 1.84*x[Hamburger] + 1.44*x[Fish Sandwich] + 2.29*x[Chicken Sandwich] + 0.77*x[Fries] + 1.29*x[Sausage Biscuit] + 0.6*x[Lowfat Milk] + 0.72*x[Orange Juice]\n",
      "\n",
      "2 Constraint Declarations\n",
      "    _rule_nutrient : Size=7, Index=set_nutrient, Active=True\n",
      "        Key     : Lower  : Body                                                                                                                                                                                            : Upper : Active\n",
      "            Cal :  100.0 :                                20*x[Cheeseburger] + 20*x[Ham Sandwich] + 20*x[Hamburger] + 10*x[Fish Sandwich] + 8*x[Chicken Sandwich] + 2*x[Fries] + 15*x[Sausage Biscuit] + 2*x[Orange Juice] :  +Inf :   True\n",
      "           Calc :  100.0 :                                                         6*x[Cheeseburger] + 10*x[Ham Sandwich] + 2*x[Hamburger] + 15*x[Chicken Sandwich] + 15*x[Fries] + 4*x[Lowfat Milk] + 120*x[Orange Juice] :  +Inf :   True\n",
      "          Carbo : 2000.0 : 510*x[Cheeseburger] + 370*x[Ham Sandwich] + 500*x[Hamburger] + 370*x[Fish Sandwich] + 400*x[Chicken Sandwich] + 220*x[Fries] + 345*x[Sausage Biscuit] + 110*x[Lowfat Milk] + 80*x[Orange Juice] :  +Inf :   True\n",
      "           Iron :  100.0 :                        30*x[Cheeseburger] + 20*x[Ham Sandwich] + 25*x[Hamburger] + 15*x[Fish Sandwich] + 15*x[Chicken Sandwich] + 20*x[Sausage Biscuit] + 30*x[Lowfat Milk] + 2*x[Orange Juice] :  +Inf :   True\n",
      "        Protein :  350.0 :         34*x[Cheeseburger] + 35*x[Ham Sandwich] + 42*x[Hamburger] + 38*x[Fish Sandwich] + 42*x[Chicken Sandwich] + 26*x[Fries] + 27*x[Sausage Biscuit] + 12*x[Lowfat Milk] + 20*x[Orange Juice] : 350.0 :   True\n",
      "           VitA :   55.0 :              28*x[Cheeseburger] + 24*x[Ham Sandwich] + 25*x[Hamburger] + 14*x[Fish Sandwich] + 31*x[Chicken Sandwich] + 3*x[Fries] + 15*x[Sausage Biscuit] + 9*x[Lowfat Milk] + x[Orange Juice] :  +Inf :   True\n",
      "           VitC :  100.0 :                            15*x[Cheeseburger] + 15*x[Ham Sandwich] + 6*x[Hamburger] + 2*x[Fish Sandwich] + 8*x[Chicken Sandwich] + 4*x[Sausage Biscuit] + 10*x[Lowfat Milk] + 2*x[Orange Juice] :  +Inf :   True\n",
      "    _rule_volumn : Size=1, Index=None, Active=True\n",
      "        Key  : Lower : Body                                                                                                                                                                                      : Upper : Active\n",
      "        None :  -Inf : 4*x[Cheeseburger] + 7.5*x[Ham Sandwich] + 3.5*x[Hamburger] + 5*x[Fish Sandwich] + 7.3*x[Chicken Sandwich] + 2.6*x[Fries] + 4.1*x[Sausage Biscuit] + 8*x[Lowfat Milk] + 12*x[Orange Juice] :  75.0 :   True\n",
      "\n",
      "12 Declarations: set_food set_nutrient nutrient_index nutrient Nmin Nmax Cost Volumn x obj _rule_nutrient _rule_volumn\n"
     ]
    }
   ],
   "source": [
    "model.pprint()"
   ]
  },
  {
   "cell_type": "code",
   "execution_count": 24,
   "metadata": {},
   "outputs": [
    {
     "name": "stdout",
     "output_type": "stream",
     "text": [
      "product 3.0\n",
      "product 0.0\n",
      "product 2.0\n",
      "product 0.0\n",
      "product 0.0\n",
      "product 4.0\n",
      "product 0.0\n",
      "product 5.0\n",
      "product 0.0\n"
     ]
    }
   ],
   "source": [
    "for i in nutrient_df.index:\n",
    "    print('product',model.x[i]())"
   ]
  },
  {
   "cell_type": "code",
   "execution_count": 25,
   "metadata": {},
   "outputs": [
    {
     "name": "stdout",
     "output_type": "stream",
     "text": [
      "/bin/sh: 1: Syntax error: \"(\" unexpected\r\n"
     ]
    }
   ],
   "source": [
    "# model.pprint()\n",
    "# !help Varible\n",
    "# float('inf')\n",
    "!help inequality()"
   ]
  },
  {
   "cell_type": "code",
   "execution_count": 26,
   "metadata": {},
   "outputs": [
    {
     "data": {
      "text/plain": [
       "float"
      ]
     },
     "execution_count": 26,
     "metadata": {},
     "output_type": "execute_result"
    }
   ],
   "source": [
    "type(float('inf'))\n"
   ]
  },
  {
   "cell_type": "code",
   "execution_count": 27,
   "metadata": {},
   "outputs": [
    {
     "name": "stdout",
     "output_type": "stream",
     "text": [
      "Help on function inequality in module pyomo.core.expr.logical_expr:\n",
      "\n",
      "inequality(lower=None, body=None, upper=None, strict=False)\n",
      "    A utility function that can be used to declare inequality and\n",
      "    ranged inequality expressions.  The expression::\n",
      "    \n",
      "        inequality(2, model.x)\n",
      "    \n",
      "    is equivalent to the expression::\n",
      "    \n",
      "        2 <= model.x\n",
      "    \n",
      "    The expression::\n",
      "    \n",
      "        inequality(2, model.x, 3)\n",
      "    \n",
      "    is equivalent to the expression::\n",
      "    \n",
      "        2 <= model.x <= 3\n",
      "    \n",
      "    .. note:: This ranged inequality syntax is deprecated in Pyomo.\n",
      "        This function provides a mechanism for expressing\n",
      "        ranged inequalities without chained inequalities.\n",
      "    \n",
      "    Args:\n",
      "        lower: an expression defines a lower bound\n",
      "        body: an expression defines the body of a ranged constraint\n",
      "        upper: an expression defines an upper bound\n",
      "        strict (bool): A boolean value that indicates whether the inequality\n",
      "            is strict.  Default is :const:`False`.\n",
      "    \n",
      "    Returns:\n",
      "        A relational expression.  The expression is an inequality\n",
      "        if any of the values :attr:`lower`, :attr:`body` or\n",
      "        :attr:`upper` is :const:`None`.  Otherwise, the expression\n",
      "        is a ranged inequality.\n",
      "\n"
     ]
    }
   ],
   "source": [
    "help(inequality)\n"
   ]
  },
  {
   "cell_type": "code",
   "execution_count": null,
   "metadata": {},
   "outputs": [],
   "source": []
  },
  {
   "cell_type": "code",
   "execution_count": null,
   "metadata": {},
   "outputs": [],
   "source": []
  }
 ],
 "metadata": {
  "kernel_info": {
   "name": "python3"
  },
  "kernelspec": {
   "display_name": "Python 3",
   "language": "python",
   "name": "python3"
  },
  "language_info": {
   "codemirror_mode": {
    "name": "ipython",
    "version": 3
   },
   "file_extension": ".py",
   "mimetype": "text/x-python",
   "name": "python",
   "nbconvert_exporter": "python",
   "pygments_lexer": "ipython3",
   "version": "3.7.3"
  },
  "nteract": {
   "version": "0.14.5"
  }
 },
 "nbformat": 4,
 "nbformat_minor": 4
}
