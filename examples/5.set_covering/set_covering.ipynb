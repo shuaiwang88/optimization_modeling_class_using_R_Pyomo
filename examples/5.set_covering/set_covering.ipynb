{
 "cells": [
  {
   "cell_type": "markdown",
   "metadata": {},
   "source": [
    "# Set Covering Problem\n",
    "**A hospital ER needs to keep doctors on call, so that a qualified\n",
    "individual is available to perform every medical procedure that\n",
    "might be required (there is an ocial list of such procedures). For\n",
    "each of several doctors available for on-call duty, the additional\n",
    "salary they need to be paid, and which procedures they can\n",
    "perform, is known. The goal to choose doctors so that each\n",
    "procedure is covered, at a minimum cost.**\n",
    "    <img src=\"set_covering.png\">"
   ]
  },
  {
   "cell_type": "markdown",
   "metadata": {},
   "source": [
    "## Model formulation\n",
    "### Sets\n",
    "Set of procedure P, indexed by i, where p = 1..m\n",
    "\n",
    "Set of of doctors D, indexd by j, where j = 1..n\n",
    "\n",
    "### Parameters\n",
    "With m procedures and n available doctors.\n",
    "\n",
    "The data can be represented as $A \\in  R^{m*n} $, where\n",
    "$a_{ij} = 1$ if doctor j can perform procedure i and $a_{ij} = 0$ otherwise.\n",
    "\n",
    "Also, let $C_j$ be the additional salary that will need to\n",
    "be paid to doctor j for on-call duty.\n",
    "### Vairibles \n",
    "$X_j = 1$  if doctor j is on call, and 0 otherwise\n",
    "### Objective\n",
    "Minimize the cost $$ \\sum_j^n C_j*X_j$$\n",
    "### Constraints\n",
    "Ensure the coverage, for every procedure i, it has to be covered by at lease one doctor.\n",
    "\n",
    "subject to:\n",
    "$$ \\sum_j^n a_{ij} * X_j \\ge 1, \\forall i = 1..m  $$\n",
    "$$X_j \\in {\\{0,1 \\}} ,\\forall j = 1..n $$\n"
   ]
  },
  {
   "cell_type": "markdown",
   "metadata": {},
   "source": [
    "<img src=\"set_covering.png\">"
   ]
  },
  {
   "cell_type": "code",
   "execution_count": 1,
   "metadata": {},
   "outputs": [
    {
     "data": {
      "text/html": [
       "<div>\n",
       "<style scoped>\n",
       "    .dataframe tbody tr th:only-of-type {\n",
       "        vertical-align: middle;\n",
       "    }\n",
       "\n",
       "    .dataframe tbody tr th {\n",
       "        vertical-align: top;\n",
       "    }\n",
       "\n",
       "    .dataframe thead th {\n",
       "        text-align: right;\n",
       "    }\n",
       "</style>\n",
       "<table border=\"1\" class=\"dataframe\">\n",
       "  <thead>\n",
       "    <tr style=\"text-align: right;\">\n",
       "      <th></th>\n",
       "      <th>doc1</th>\n",
       "      <th>doc2</th>\n",
       "      <th>doc3</th>\n",
       "      <th>doc4</th>\n",
       "      <th>doc5</th>\n",
       "      <th>doc6</th>\n",
       "    </tr>\n",
       "  </thead>\n",
       "  <tbody>\n",
       "    <tr>\n",
       "      <td>p1</td>\n",
       "      <td>1</td>\n",
       "      <td>0</td>\n",
       "      <td>0</td>\n",
       "      <td>1</td>\n",
       "      <td>0</td>\n",
       "      <td>0</td>\n",
       "    </tr>\n",
       "    <tr>\n",
       "      <td>p2</td>\n",
       "      <td>1</td>\n",
       "      <td>0</td>\n",
       "      <td>0</td>\n",
       "      <td>0</td>\n",
       "      <td>1</td>\n",
       "      <td>0</td>\n",
       "    </tr>\n",
       "    <tr>\n",
       "      <td>p3</td>\n",
       "      <td>0</td>\n",
       "      <td>1</td>\n",
       "      <td>1</td>\n",
       "      <td>0</td>\n",
       "      <td>0</td>\n",
       "      <td>0</td>\n",
       "    </tr>\n",
       "    <tr>\n",
       "      <td>p4</td>\n",
       "      <td>1</td>\n",
       "      <td>0</td>\n",
       "      <td>0</td>\n",
       "      <td>0</td>\n",
       "      <td>0</td>\n",
       "      <td>1</td>\n",
       "    </tr>\n",
       "    <tr>\n",
       "      <td>p5</td>\n",
       "      <td>0</td>\n",
       "      <td>1</td>\n",
       "      <td>1</td>\n",
       "      <td>0</td>\n",
       "      <td>0</td>\n",
       "      <td>1</td>\n",
       "    </tr>\n",
       "    <tr>\n",
       "      <td>p6</td>\n",
       "      <td>0</td>\n",
       "      <td>1</td>\n",
       "      <td>0</td>\n",
       "      <td>0</td>\n",
       "      <td>0</td>\n",
       "      <td>0</td>\n",
       "    </tr>\n",
       "  </tbody>\n",
       "</table>\n",
       "</div>"
      ],
      "text/plain": [
       "    doc1  doc2  doc3  doc4  doc5  doc6\n",
       "p1     1     0     0     1     0     0\n",
       "p2     1     0     0     0     1     0\n",
       "p3     0     1     1     0     0     0\n",
       "p4     1     0     0     0     0     1\n",
       "p5     0     1     1     0     0     1\n",
       "p6     0     1     0     0     0     0"
      ]
     },
     "execution_count": 1,
     "metadata": {},
     "output_type": "execute_result"
    }
   ],
   "source": [
    "import pandas as pd\n",
    "import numpy as np\n",
    "# d = {'one' : pd.Series([10, 20, 30, 40], index =['a', 'b', 'c', 'd']), \n",
    "#       'two' : pd.Series([10, 20, 30, 40], index =['a', 'b', 'c', 'd'])} \n",
    "  \n",
    "# # creates Dataframe. \n",
    "# df = pd.DataFrame(d) \n",
    "\n",
    "\n",
    "\n",
    "availability_df = pd.DataFrame(\n",
    "    [\n",
    "    [1,0,0,1,0,0],\n",
    "    [1,0,0,0,1,0],\n",
    "    [0,1,1,0,0,0],\n",
    "    [1,0,0,0,0,1],\n",
    "    [0,1,1,0,0,1],\n",
    "    [0,1,0,0,0,0]\n",
    "    ],\n",
    "    columns = ['doc1','doc2','doc3','doc4','doc5','doc6'],\n",
    "    index = ['p1', 'p2', 'p3', 'p4','p5', 'p6']\n",
    ")\n",
    "availability_df"
   ]
  },
  {
   "cell_type": "markdown",
   "metadata": {},
   "source": [
    "### Create sets for doctors and procedures\n"
   ]
  },
  {
   "cell_type": "code",
   "execution_count": null,
   "metadata": {},
   "outputs": [],
   "source": []
  },
  {
   "cell_type": "code",
   "execution_count": 2,
   "metadata": {},
   "outputs": [],
   "source": [
    "from pyomo.environ import *\n",
    "model = ConcreteModel()\n",
    "## Create sets for doctors and procedures\n",
    "model.set_doctor=Set(initialize=availability_df.columns)\n",
    "model.set_procedure=Set(initialize=list(availability_df.index))"
   ]
  },
  {
   "cell_type": "markdown",
   "metadata": {},
   "source": [
    "### Create parameters\n"
   ]
  },
  {
   "cell_type": "code",
   "execution_count": 3,
   "metadata": {},
   "outputs": [
    {
     "data": {
      "text/plain": [
       "{('p1', 'doc1'): 1,\n",
       " ('p1', 'doc2'): 0,\n",
       " ('p1', 'doc3'): 0,\n",
       " ('p1', 'doc4'): 1,\n",
       " ('p1', 'doc5'): 0,\n",
       " ('p1', 'doc6'): 0,\n",
       " ('p2', 'doc1'): 1,\n",
       " ('p2', 'doc2'): 0,\n",
       " ('p2', 'doc3'): 0,\n",
       " ('p2', 'doc4'): 0,\n",
       " ('p2', 'doc5'): 1,\n",
       " ('p2', 'doc6'): 0,\n",
       " ('p3', 'doc1'): 0,\n",
       " ('p3', 'doc2'): 1,\n",
       " ('p3', 'doc3'): 1,\n",
       " ('p3', 'doc4'): 0,\n",
       " ('p3', 'doc5'): 0,\n",
       " ('p3', 'doc6'): 0,\n",
       " ('p4', 'doc1'): 1,\n",
       " ('p4', 'doc2'): 0,\n",
       " ('p4', 'doc3'): 0,\n",
       " ('p4', 'doc4'): 0,\n",
       " ('p4', 'doc5'): 0,\n",
       " ('p4', 'doc6'): 1,\n",
       " ('p5', 'doc1'): 0,\n",
       " ('p5', 'doc2'): 1,\n",
       " ('p5', 'doc3'): 1,\n",
       " ('p5', 'doc4'): 0,\n",
       " ('p5', 'doc5'): 0,\n",
       " ('p5', 'doc6'): 1,\n",
       " ('p6', 'doc1'): 0,\n",
       " ('p6', 'doc2'): 1,\n",
       " ('p6', 'doc3'): 0,\n",
       " ('p6', 'doc4'): 0,\n",
       " ('p6', 'doc5'): 0,\n",
       " ('p6', 'doc6'): 0}"
      ]
     },
     "execution_count": 3,
     "metadata": {},
     "output_type": "execute_result"
    }
   ],
   "source": [
    "# convert the data to dictionary\n",
    "availability_d = availability_df.stack().to_dict()\n",
    "availability_d"
   ]
  },
  {
   "cell_type": "code",
   "execution_count": 4,
   "metadata": {},
   "outputs": [],
   "source": [
    "model.availability = Param(model.set_procedure, model.set_doctor,\n",
    "                  initialize= availability_d)"
   ]
  },
  {
   "cell_type": "code",
   "execution_count": 5,
   "metadata": {},
   "outputs": [
    {
     "data": {
      "text/plain": [
       "{'doc1': 2500,\n",
       " 'doc2': 2800,\n",
       " 'doc3': 1800,\n",
       " 'doc4': 1200,\n",
       " 'doc5': 1100,\n",
       " 'doc6': 900}"
      ]
     },
     "execution_count": 5,
     "metadata": {},
     "output_type": "execute_result"
    }
   ],
   "source": [
    "# the cost \n",
    "# cost = [2500, 2800, 800, 100, 400, 1300]\n",
    "cost = [2500, 2800, 1800, 1200, 1100, 900]\n",
    "cost_d = dict(zip(availability_df.columns, cost))\n",
    "cost_d"
   ]
  },
  {
   "cell_type": "code",
   "execution_count": 6,
   "metadata": {},
   "outputs": [],
   "source": [
    "model.cost = Param(model.set_doctor, initialize = cost_d)"
   ]
  },
  {
   "cell_type": "code",
   "execution_count": 7,
   "metadata": {},
   "outputs": [
    {
     "name": "stdout",
     "output_type": "stream",
     "text": [
      "3 Set Declarations\n",
      "    availability_index : Dim=0, Dimen=2, Size=36, Domain=None, Ordered=False, Bounds=None\n",
      "        Virtual\n",
      "    set_doctor : Dim=0, Dimen=1, Size=6, Domain=None, Ordered=False, Bounds=None\n",
      "        ['doc1', 'doc2', 'doc3', 'doc4', 'doc5', 'doc6']\n",
      "    set_procedure : Dim=0, Dimen=1, Size=6, Domain=None, Ordered=False, Bounds=None\n",
      "        ['p1', 'p2', 'p3', 'p4', 'p5', 'p6']\n",
      "\n",
      "2 Param Declarations\n",
      "    availability : Size=36, Index=availability_index, Domain=Any, Default=None, Mutable=False\n",
      "        Key            : Value\n",
      "        ('p1', 'doc1') :     1\n",
      "        ('p1', 'doc2') :     0\n",
      "        ('p1', 'doc3') :     0\n",
      "        ('p1', 'doc4') :     1\n",
      "        ('p1', 'doc5') :     0\n",
      "        ('p1', 'doc6') :     0\n",
      "        ('p2', 'doc1') :     1\n",
      "        ('p2', 'doc2') :     0\n",
      "        ('p2', 'doc3') :     0\n",
      "        ('p2', 'doc4') :     0\n",
      "        ('p2', 'doc5') :     1\n",
      "        ('p2', 'doc6') :     0\n",
      "        ('p3', 'doc1') :     0\n",
      "        ('p3', 'doc2') :     1\n",
      "        ('p3', 'doc3') :     1\n",
      "        ('p3', 'doc4') :     0\n",
      "        ('p3', 'doc5') :     0\n",
      "        ('p3', 'doc6') :     0\n",
      "        ('p4', 'doc1') :     1\n",
      "        ('p4', 'doc2') :     0\n",
      "        ('p4', 'doc3') :     0\n",
      "        ('p4', 'doc4') :     0\n",
      "        ('p4', 'doc5') :     0\n",
      "        ('p4', 'doc6') :     1\n",
      "        ('p5', 'doc1') :     0\n",
      "        ('p5', 'doc2') :     1\n",
      "        ('p5', 'doc3') :     1\n",
      "        ('p5', 'doc4') :     0\n",
      "        ('p5', 'doc5') :     0\n",
      "        ('p5', 'doc6') :     1\n",
      "        ('p6', 'doc1') :     0\n",
      "        ('p6', 'doc2') :     1\n",
      "        ('p6', 'doc3') :     0\n",
      "        ('p6', 'doc4') :     0\n",
      "        ('p6', 'doc5') :     0\n",
      "        ('p6', 'doc6') :     0\n",
      "    cost : Size=6, Index=set_doctor, Domain=Any, Default=None, Mutable=False\n",
      "        Key  : Value\n",
      "        doc1 :  2500\n",
      "        doc2 :  2800\n",
      "        doc3 :  1800\n",
      "        doc4 :  1200\n",
      "        doc5 :  1100\n",
      "        doc6 :   900\n",
      "\n",
      "5 Declarations: set_doctor set_procedure availability_index availability cost\n"
     ]
    }
   ],
   "source": [
    "model.pprint()"
   ]
  },
  {
   "cell_type": "markdown",
   "metadata": {},
   "source": [
    "### Variable\n",
    "if the doctor is picked or not"
   ]
  },
  {
   "cell_type": "code",
   "execution_count": 8,
   "metadata": {},
   "outputs": [],
   "source": [
    "model.x = Var(model.set_doctor, domain = Binary)"
   ]
  },
  {
   "cell_type": "markdown",
   "metadata": {},
   "source": [
    "### Objective\n",
    "Minimize the cost $$ \\sum_j^n C_j*X_j$$"
   ]
  },
  {
   "cell_type": "code",
   "execution_count": 9,
   "metadata": {},
   "outputs": [],
   "source": [
    "def obj_func(model):\n",
    "    return summation(model.cost, model.x)\n",
    "# simmation = sum_product\n",
    "\n",
    "model.obj = Objective(rule=obj_func, sense =minimize)"
   ]
  },
  {
   "cell_type": "markdown",
   "metadata": {},
   "source": [
    "### Constraint\n",
    "$$ \\sum_j^n a_{ij} * X_j \\ge 1, \\forall i = 1..m  $$"
   ]
  },
  {
   "cell_type": "code",
   "execution_count": 10,
   "metadata": {},
   "outputs": [],
   "source": [
    "def _avail_con(model, i):\n",
    "    return sum(model.availability[i,j] * model.x[j] \n",
    "               for j in model.set_doctor) >= 1\n",
    "model.demand_constraint = Constraint(model.set_procedure,\n",
    "    rule = _avail_con)"
   ]
  },
  {
   "cell_type": "markdown",
   "metadata": {},
   "source": [
    "### Solve "
   ]
  },
  {
   "cell_type": "code",
   "execution_count": 11,
   "metadata": {},
   "outputs": [
    {
     "data": {
      "text/plain": [
       "{'Problem': [{'Name': 'unknown', 'Lower bound': 5300.0, 'Upper bound': 5300.0, 'Number of objectives': 1, 'Number of constraints': 7, 'Number of variables': 7, 'Number of nonzeros': 13, 'Sense': 'minimize'}], 'Solver': [{'Status': 'ok', 'Termination condition': 'optimal', 'Statistics': {'Branch and bound': {'Number of bounded subproblems': '1', 'Number of created subproblems': '1'}}, 'Error rc': 0, 'Time': 0.015442609786987305}], 'Solution': [OrderedDict([('number of solutions', 0), ('number of solutions displayed', 0)])]}"
      ]
     },
     "execution_count": 11,
     "metadata": {},
     "output_type": "execute_result"
    }
   ],
   "source": [
    "solver = SolverFactory('glpk') #cbc\n",
    "solver.solve(model)"
   ]
  },
  {
   "cell_type": "code",
   "execution_count": 12,
   "metadata": {},
   "outputs": [
    {
     "name": "stdout",
     "output_type": "stream",
     "text": [
      "  doc1 : 1.0\n",
      "  doc2 : 1.0\n",
      "  doc3 : 0.0\n",
      "  doc4 : 0.0\n",
      "  doc5 : 0.0\n",
      "  doc6 : 0.0\n",
      "total cost: 5300.0\n"
     ]
    }
   ],
   "source": [
    "for d in availability_df.columns:\n",
    "    print(' ', d, ':', model.x[d]())\n",
    "print('total cost:', model.obj())"
   ]
  },
  {
   "cell_type": "code",
   "execution_count": 13,
   "metadata": {},
   "outputs": [],
   "source": [
    "# print_solution(model)"
   ]
  },
  {
   "cell_type": "code",
   "execution_count": null,
   "metadata": {
    "inputHidden": false,
    "outputHidden": false
   },
   "outputs": [],
   "source": [
    "def caught_speeding(speed, is_birthday):\n",
    "    if is_birthday == 'True':\n",
    "        speeding = speed - 5\n",
    "    else:\n",
    "        speeding = speed\n",
    "        \n",
    "    if speeding <= 60:\n",
    "        return 'No Ticket'\n",
    "    elif speeding <=80 and speeding>=61:\n",
    "        return 'Small Ticket'\n",
    "    else:\n",
    "        return 'Big Ticket'\n",
    "    pass"
   ]
  },
  {
   "cell_type": "code",
   "execution_count": 8,
   "metadata": {
    "inputHidden": false,
    "outputHidden": false
   },
   "outputs": [
    {
     "data": {
      "text/plain": [
       "'Small Ticket'"
      ]
     },
     "execution_count": 8,
     "metadata": {},
     "output_type": "execute_result"
    }
   ],
   "source": [
    "caught_speeding(81, 'True')"
   ]
  },
  {
   "cell_type": "code",
   "execution_count": 9,
   "metadata": {
    "inputHidden": false,
    "outputHidden": false
   },
   "outputs": [
    {
     "data": {
      "text/plain": [
       "'Big Ticket'"
      ]
     },
     "execution_count": 9,
     "metadata": {},
     "output_type": "execute_result"
    }
   ],
   "source": [
    "caught_speeding(81, 'False')"
   ]
  }
 ],
 "metadata": {
  "kernel_info": {
   "name": "python3"
  },
  "kernelspec": {
   "display_name": "Python 3",
   "language": "python",
   "name": "python3"
  },
  "language_info": {
   "codemirror_mode": {
    "name": "ipython",
    "version": 3
   },
   "file_extension": ".py",
   "mimetype": "text/x-python",
   "name": "python",
   "nbconvert_exporter": "python",
   "pygments_lexer": "ipython3",
   "version": "3.7.3"
  },
  "nteract": {
   "version": "0.14.5"
  }
 },
 "nbformat": 4,
 "nbformat_minor": 2
}
