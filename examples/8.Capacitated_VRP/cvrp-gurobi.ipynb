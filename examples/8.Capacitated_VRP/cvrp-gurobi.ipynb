{
 "cells": [
  {
   "cell_type": "markdown",
   "metadata": {},
   "source": [
    "# Capacitated Vehicle Routing Problem\n",
    "\n",
    "<img src=\"http://neo.lcc.uma.es/dynamic/images/vrp.png\" width=\"400\" />\n",
    "\n",
    "- $n$ is the number of clientes\n",
    "- $N$ is set of clients, with $N=\\{1,2,...,n\\}$\n",
    "- $V$ is set of vetices (or nodes), with $V=\\{0\\}\\cup N$\n",
    "- $A$ is set of arcs, with $A=\\{(i,j)\\in V^2 : i\\neq j\\}$\n",
    "- $c_{ij}$ is cost of travel over arc $(i,j)\\in A$\n",
    "- $Q$ is the vehicle capacity\n",
    "- $q_i$ is the amount that has to be delivered to customer $i\\in N$\n",
    "\n",
    "Then, the formulation is the following\n",
    "$$\\begin{align}\n",
    "\\min \\quad & \\sum_{i,j\\in A} c_{ij} x_{ij} \\\\\n",
    "\\text{s.t.} \\quad & \\sum_{j\\in V , j\\neq i} x_{ij} = 1  && i \\in N \\\\\n",
    "& \\sum_{i\\in V , i\\neq j} x_{ij} = 1 && j \\in N \\\\\n",
    "& \\text{if} \\ x_{ij}=1 \\ \\Rightarrow \\ u_i + q_j = u_j && i,j \\in A : j\\neq 0, i\\neq 0 \\\\\n",
    "& q_i \\leq u_i \\leq Q && i \\in N \\\\\n",
    "& x_{ij} \\in \\{0,1\\} && i,j \\in A\n",
    "\\end{align}$$"
   ]
  },
  {
   "cell_type": "code",
   "execution_count": 1,
   "metadata": {},
   "outputs": [],
   "source": [
    "import numpy as np\n",
    "import matplotlib.pyplot as plt"
   ]
  },
  {
   "cell_type": "code",
   "execution_count": 2,
   "metadata": {},
   "outputs": [],
   "source": [
    "rnd = np.random\n",
    "rnd.seed(0)"
   ]
  },
  {
   "cell_type": "code",
   "execution_count": 3,
   "metadata": {},
   "outputs": [],
   "source": [
    "n = 20  # numbre of clients\n",
    "xc = rnd.rand(n+1)*200\n",
    "yc = rnd.rand(n+1)*100"
   ]
  },
  {
   "cell_type": "code",
   "execution_count": 4,
   "metadata": {},
   "outputs": [
    {
     "data": {
      "text/plain": [
       "<matplotlib.collections.PathCollection at 0x1fc92fa7388>"
      ]
     },
     "execution_count": 4,
     "metadata": {},
     "output_type": "execute_result"
    },
    {
     "data": {
      "image/png": "[encoded data removed]",
      "text/plain": [
       "<Figure size 432x288 with 1 Axes>"
      ]
     },
     "metadata": {
      "needs_background": "light"
     },
     "output_type": "display_data"
    }
   ],
   "source": [
    "plt.plot(xc[0], yc[0], c='r', marker='s')\n",
    "plt.scatter(xc[1:], yc[1:], c='b')"
   ]
  },
  {
   "cell_type": "code",
   "execution_count": 5,
   "metadata": {},
   "outputs": [],
   "source": [
    "N = [i for i in range(1, n+1)]\n",
    "V = [0] + N\n",
    "A = [(i, j) for i in V for j in V if i != j]\n",
    "c = {(i, j): np.hypot(xc[i]-xc[j], yc[i]-yc[j]) for i, j in A}\n",
    "Q = 20\n",
    "q = {i: rnd.randint(1, 10) for i in N}"
   ]
  },
  {
   "cell_type": "code",
   "execution_count": 6,
   "metadata": {},
   "outputs": [],
   "source": [
    "from gurobipy import Model, GRB, quicksum"
   ]
  },
  {
   "cell_type": "code",
   "execution_count": 7,
   "metadata": {},
   "outputs": [
    {
     "name": "stdout",
     "output_type": "stream",
     "text": [
      "Using license file C:\\Users\\Hernan\\gurobi.lic\n",
      "Academic license - for non-commercial use only\n"
     ]
    }
   ],
   "source": [
    "mdl = Model('CVRP')"
   ]
  },
  {
   "cell_type": "code",
   "execution_count": 8,
   "metadata": {},
   "outputs": [],
   "source": [
    "x = mdl.addVars(A, vtype=GRB.BINARY)\n",
    "u = mdl.addVars(N, vtype=GRB.CONTINUOUS)"
   ]
  },
  {
   "cell_type": "code",
   "execution_count": 9,
   "metadata": {},
   "outputs": [],
   "source": [
    "mdl.modelSense = GRB.MINIMIZE\n",
    "mdl.setObjective(quicksum(x[i, j]*c[i, j] for i, j in A))"
   ]
  },
  {
   "cell_type": "code",
   "execution_count": 10,
   "metadata": {},
   "outputs": [
    {
     "data": {
      "text/plain": [
       "{1: <gurobi.Constr *Awaiting Model Update*>,\n",
       " 2: <gurobi.Constr *Awaiting Model Update*>,\n",
       " 3: <gurobi.Constr *Awaiting Model Update*>,\n",
       " 4: <gurobi.Constr *Awaiting Model Update*>,\n",
       " 5: <gurobi.Constr *Awaiting Model Update*>,\n",
       " 6: <gurobi.Constr *Awaiting Model Update*>,\n",
       " 7: <gurobi.Constr *Awaiting Model Update*>,\n",
       " 8: <gurobi.Constr *Awaiting Model Update*>,\n",
       " 9: <gurobi.Constr *Awaiting Model Update*>,\n",
       " 10: <gurobi.Constr *Awaiting Model Update*>,\n",
       " 11: <gurobi.Constr *Awaiting Model Update*>,\n",
       " 12: <gurobi.Constr *Awaiting Model Update*>,\n",
       " 13: <gurobi.Constr *Awaiting Model Update*>,\n",
       " 14: <gurobi.Constr *Awaiting Model Update*>,\n",
       " 15: <gurobi.Constr *Awaiting Model Update*>,\n",
       " 16: <gurobi.Constr *Awaiting Model Update*>,\n",
       " 17: <gurobi.Constr *Awaiting Model Update*>,\n",
       " 18: <gurobi.Constr *Awaiting Model Update*>,\n",
       " 19: <gurobi.Constr *Awaiting Model Update*>,\n",
       " 20: <gurobi.Constr *Awaiting Model Update*>}"
      ]
     },
     "execution_count": 10,
     "metadata": {},
     "output_type": "execute_result"
    }
   ],
   "source": [
    "mdl.addConstrs(quicksum(x[i, j] for j in V if j != i) == 1 for i in N)\n",
    "mdl.addConstrs(quicksum(x[i, j] for i in V if i != j) == 1 for j in N)\n",
    "mdl.addConstrs((x[i, j] == 1) >> (u[i]+q[j] == u[j])\n",
    "               for i, j in A if i != 0 and j != 0)\n",
    "mdl.addConstrs(u[i] >= q[i] for i in N)\n",
    "mdl.addConstrs(u[i] <= Q for i in N)"
   ]
  },
  {
   "cell_type": "code",
   "execution_count": 11,
   "metadata": {
    "scrolled": false
   },
   "outputs": [
    {
     "name": "stdout",
     "output_type": "stream",
     "text": [
      "Changed value of parameter MIPGap to 0.1\n",
      "   Prev: 0.0001  Min: 0.0  Max: inf  Default: 0.0001\n",
      "Changed value of parameter TimeLimit to 30.0\n",
      "   Prev: inf  Min: 0.0  Max: inf  Default: inf\n",
      "Gurobi Optimizer version 9.0.1 build v9.0.1rc0 (win64)\n",
      "Optimize a model with 80 rows, 440 columns and 840 nonzeros\n",
      "Model fingerprint: 0x6822daac\n",
      "Model has 380 general constraints\n",
      "Variable types: 20 continuous, 420 integer (420 binary)\n",
      "Coefficient statistics:\n",
      "  Matrix range     [1e+00, 1e+00]\n",
      "  Objective range  [3e+00, 2e+02]\n",
      "  Bounds range     [1e+00, 1e+00]\n",
      "  RHS range        [1e+00, 2e+01]\n",
      "Presolve added 910 rows and 190 columns\n",
      "Presolve time: 0.04s\n",
      "Presolved: 990 rows, 630 columns, 5787 nonzeros\n",
      "Variable types: 210 continuous, 420 integer (420 binary)\n",
      "\n",
      "Root relaxation: objective 4.516618e+02, 74 iterations, 0.00 seconds\n",
      "\n",
      "    Nodes    |    Current Node    |     Objective Bounds      |     Work\n",
      " Expl Unexpl |  Obj  Depth IntInf | Incumbent    BestBd   Gap | It/Node Time\n",
      "\n",
      "     0     0  451.66183    0   38          -  451.66183      -     -    0s\n",
      "H    0     0                    2120.5987615  451.66183  78.7%     -    0s\n",
      "H    0     0                    2020.7864178  451.66183  77.6%     -    0s\n",
      "H    0     0                    1115.8970110  451.66183  59.5%     -    0s\n",
      "     0     0  468.79159    0   46 1115.89701  468.79159  58.0%     -    0s\n",
      "H    0     0                    1094.0345285  468.79159  57.2%     -    0s\n",
      "H    0     0                    1072.6477660  468.79159  56.3%     -    0s\n",
      "     0     0  469.55809    0   47 1072.64777  469.55809  56.2%     -    0s\n",
      "H    0     0                    1052.3263006  469.55809  55.4%     -    0s\n",
      "     0     0  481.84426    0   48 1052.32630  481.84426  54.2%     -    0s\n",
      "     0     0  482.13448    0   42 1052.32630  482.13448  54.2%     -    0s\n",
      "     0     0  482.13448    0   42 1052.32630  482.13448  54.2%     -    0s\n",
      "H    0     0                     997.2445347  482.13448  51.7%     -    0s\n",
      "     0     0  482.33360    0   42  997.24453  482.33360  51.6%     -    0s\n",
      "     0     0  482.33360    0   41  997.24453  482.33360  51.6%     -    0s\n",
      "     0     0  482.41428    0   44  997.24453  482.41428  51.6%     -    0s\n",
      "     0     0  483.50597    0   44  997.24453  483.50597  51.5%     -    0s\n",
      "     0     0  486.21382    0   54  997.24453  486.21382  51.2%     -    0s\n",
      "     0     0  486.21382    0   58  997.24453  486.21382  51.2%     -    0s\n",
      "     0     0  486.21382    0   57  997.24453  486.21382  51.2%     -    0s\n",
      "     0     0  486.21382    0   58  997.24453  486.21382  51.2%     -    0s\n",
      "     0     0  486.21382    0   54  997.24453  486.21382  51.2%     -    0s\n",
      "     0     0  486.21382    0   59  997.24453  486.21382  51.2%     -    0s\n",
      "     0     0  486.21382    0   59  997.24453  486.21382  51.2%     -    0s\n",
      "     0     0  486.26113    0   56  997.24453  486.26113  51.2%     -    0s\n",
      "     0     0  486.32554    0   55  997.24453  486.32554  51.2%     -    0s\n",
      "     0     0  486.34463    0   55  997.24453  486.34463  51.2%     -    0s\n",
      "     0     0  486.61333    0   53  997.24453  486.61333  51.2%     -    0s\n",
      "     0     0  486.63359    0   54  997.24453  486.63359  51.2%     -    0s\n",
      "     0     0  486.63359    0   54  997.24453  486.63359  51.2%     -    0s\n",
      "     0     0  488.21427    0   55  997.24453  488.21427  51.0%     -    0s\n",
      "     0     0  488.21427    0   58  997.24453  488.21427  51.0%     -    0s\n",
      "     0     0  488.21427    0   56  997.24453  488.21427  51.0%     -    0s\n",
      "     0     0  488.21427    0   60  997.24453  488.21427  51.0%     -    0s\n",
      "     0     0  488.21427    0   58  997.24453  488.21427  51.0%     -    0s\n",
      "     0     2  549.55297    0   58  997.24453  549.55297  44.9%     -    0s\n",
      "H   31    40                     991.6874419  550.05384  44.5%  24.6    1s\n",
      "H   73    81                     990.9656319  550.05384  44.5%  23.5    1s\n",
      "H  297   276                     977.4740776  582.82949  40.4%  21.4    1s\n",
      "H  300   276                     974.1273092  582.82949  40.2%  21.4    1s\n",
      "H  614   540                     961.1788033  582.82949  39.4%  19.7    1s\n",
      "H  615   530                     942.1491825  582.82949  38.1%  19.7    1s\n",
      "H 3722  2026                     941.3217851  598.78137  36.4%  19.2    4s\n",
      "H 3728  1980                     926.6848170  598.78137  35.4%  19.2    4s\n",
      "  4758  2811  702.37502   19   45  926.68482  610.21005  34.2%  19.3    5s\n",
      " 17122 11610  854.35769   41   32  926.68482  651.61633  29.7%  18.6   10s\n",
      " 29212 19757  866.58434   53   58  926.68482  669.89957  27.7%  18.2   20s\n",
      " 29507 19975  902.39506   42   33  926.68482  669.89957  27.7%  18.4   25s\n",
      " 33604 21542 infeasible   55       926.68482  669.89957  27.7%  19.6   30s\n",
      "\n",
      "Cutting planes:\n",
      "  Learned: 1\n",
      "  Gomory: 8\n",
      "  Cover: 4\n",
      "  Implied bound: 28\n",
      "  Projected implied bound: 26\n",
      "  MIR: 16\n",
      "  StrongCG: 1\n",
      "  Flow cover: 29\n",
      "  GUB cover: 6\n",
      "  Zero half: 20\n",
      "  Relax-and-lift: 2\n",
      "\n",
      "Explored 33610 nodes (657714 simplex iterations) in 30.02 seconds\n",
      "Thread count was 8 (of 8 available processors)\n",
      "\n",
      "Solution count 10: 926.685 941.322 942.149 ... 1052.33\n",
      "\n",
      "Time limit reached\n",
      "Best objective 9.266848169794e+02, best bound 6.698995665841e+02, gap 27.7101%\n"
     ]
    }
   ],
   "source": [
    "mdl.Params.MIPGap = 0.1\n",
    "mdl.Params.TimeLimit = 30  # seconds\n",
    "mdl.optimize()"
   ]
  },
  {
   "cell_type": "code",
   "execution_count": 12,
   "metadata": {},
   "outputs": [],
   "source": [
    "active_arcs = [a for a in A if x[a].x > 0.99]"
   ]
  },
  {
   "cell_type": "code",
   "execution_count": 13,
   "metadata": {},
   "outputs": [
    {
     "data": {
      "text/plain": [
       "<matplotlib.collections.PathCollection at 0x1fc949c4688>"
      ]
     },
     "execution_count": 13,
     "metadata": {},
     "output_type": "execute_result"
    },
    {
     "data": {
      "image/png": "[encoded data removed]",
      "text/plain": [
       "<Figure size 432x288 with 1 Axes>"
      ]
     },
     "metadata": {
      "needs_background": "light"
     },
     "output_type": "display_data"
    }
   ],
   "source": [
    "for i, j in active_arcs:\n",
    "    plt.plot([xc[i], xc[j]], [yc[i], yc[j]], c='g', zorder=0)\n",
    "plt.plot(xc[0], yc[0], c='r', marker='s')\n",
    "plt.scatter(xc[1:], yc[1:], c='b')"
   ]
  }
 ],
 "metadata": {
  "kernelspec": {
   "display_name": "Python 3",
   "language": "python",
   "name": "python3"
  },
  "language_info": {
   "codemirror_mode": {
    "name": "ipython",
    "version": 3
   },
   "file_extension": ".py",
   "mimetype": "text/x-python",
   "name": "python",
   "nbconvert_exporter": "python",
   "pygments_lexer": "ipython3",
   "version": "3.7.4"
  }
 },
 "nbformat": 4,
 "nbformat_minor": 2
}
