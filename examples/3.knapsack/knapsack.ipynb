{
 "cells": [
  {
   "cell_type": "markdown",
   "metadata": {},
   "source": [
    "# 1.\tKnapsack Problem.\n",
    "\n",
    "<img src=\"ks.png\" style=\"width:400px;height=400px\" />\n",
    "\n",
    "## Input\n",
    "A set of items, each with weight and value.\n",
    "## Decisions\n",
    "Which items to put into the knapsack.\n",
    "## Objective\n",
    "total value is as large as possible.\n",
    "## Constriant\n",
    "total weight is  <= knapsack capacity.\n"
   ]
  },
  {
   "cell_type": "markdown",
   "metadata": {},
   "source": [
    "## Math model \n",
    "\n",
    "## Set\n",
    "set I with all the items: {Gold brick, Ring, Urn, Coin1, Coin2}\n",
    "### Parameters\n",
    "for each item i in the set I: \n",
    "\n",
    "Weight:  $W_i= [300, 1, 200, 100, 10]$\n",
    "\n",
    "Value: $V_i = [4000, 5000, 5000,2000,1000] $ \n",
    "\n",
    "Capacity: C=400 \n",
    "#### Decisions\n",
    "for each item Xi in the set I, whether we take it (1) or not (0).   $X_i \\in \\{0,1\\}, \\quad  i = 1..5$\n",
    "#### Goal(Objective)\n",
    "Maximize the overall value of selected items: \n",
    "            $$X_1*V_1 + X_2*V_2 + X_3*V_3 + X_4*V_4 + X_5*V_5$$ \n",
    "Math Expression: $$ \\sum_i^I X_i* V_i$$\n",
    "\n",
    "### Constraint\n",
    "We cannot take all the items, as the knapsack has capacity. \n",
    "$$X_1*W_1 + X_1*W_2 + X_3*W_3 + X_4*W_4 + X_5*W_5 \\leq Capacity$$\n",
    "Math Expression: Subject to $$\\sum_i^I X_i*W_i\\leq Capacity $$\n",
    "\n",
    "\n"
   ]
  },
  {
   "cell_type": "markdown",
   "metadata": {},
   "source": [
    "#### Concrete Knapsack Problem"
   ]
  },
  {
   "cell_type": "markdown",
   "metadata": {},
   "source": [
    "#### input"
   ]
  },
  {
   "cell_type": "code",
   "execution_count": 6,
   "metadata": {},
   "outputs": [],
   "source": [
    "# import pyomo.environ as p\n",
    "from pyomo.environ import *\n",
    "\n",
    "weight = {'GoldBrick':300, 'Ring':1, 'Urn':200, 'Coin1':100, 'Coin2':10}\n",
    "value = {'GoldBrick':4000, 'Ring':5000, 'Urn':5000, 'Coin1':2000, 'Coin2':1000}\n",
    "\n",
    "Capacity = 400\n",
    "M = ConcreteModel() \n",
    "\n",
    "M.ITEMS = Set(initialize=value.keys())\n"
   ]
  },
  {
   "cell_type": "markdown",
   "metadata": {},
   "source": [
    "#### variables\n",
    "if the item is selected or not"
   ]
  },
  {
   "cell_type": "code",
   "execution_count": 7,
   "metadata": {},
   "outputs": [],
   "source": [
    "\n",
    "M.x = Var(M.ITEMS, domain=Binary)\n"
   ]
  },
  {
   "cell_type": "markdown",
   "metadata": {},
   "source": [
    "#### Ojective and constraint"
   ]
  },
  {
   "cell_type": "code",
   "execution_count": 8,
   "metadata": {},
   "outputs": [],
   "source": [
    "M.value = Objective(expr=sum(value[i]*M.x[i] for i in M.ITEMS), \n",
    "                      sense=maximize)\n",
    "\n",
    "\n",
    "M.weight = Constraint(expr=sum(weight[i]*M.x[i] for i in M.ITEMS) <=\n",
    "                        Capacity)\n"
   ]
  },
  {
   "cell_type": "code",
   "execution_count": 10,
   "metadata": {},
   "outputs": [
    {
     "name": "stdout",
     "output_type": "stream",
     "text": [
      "1 Set Declarations\n",
      "    ITEMS : Size=1, Index=None, Ordered=Insertion\n",
      "        Key  : Dimen : Domain : Size : Members\n",
      "        None :     1 :    Any :    5 : {'GoldBrick', 'Ring', 'Urn', 'Coin1', 'Coin2'}\n",
      "\n",
      "1 Var Declarations\n",
      "    x : Size=5, Index=ITEMS\n",
      "        Key       : Lower : Value : Upper : Fixed : Stale : Domain\n",
      "            Coin1 :     0 :  None :     1 : False :  True : Binary\n",
      "            Coin2 :     0 :  None :     1 : False :  True : Binary\n",
      "        GoldBrick :     0 :  None :     1 : False :  True : Binary\n",
      "             Ring :     0 :  None :     1 : False :  True : Binary\n",
      "              Urn :     0 :  None :     1 : False :  True : Binary\n",
      "\n",
      "1 Objective Declarations\n",
      "    value : Size=1, Index=None, Active=True\n",
      "        Key  : Active : Sense    : Expression\n",
      "        None :   True : maximize : 4000*x[GoldBrick] + 5000*x[Ring] + 5000*x[Urn] + 2000*x[Coin1] + 1000*x[Coin2]\n",
      "\n",
      "1 Constraint Declarations\n",
      "    weight : Size=1, Index=None, Active=True\n",
      "        Key  : Lower : Body                                                                 : Upper : Active\n",
      "        None :  -Inf : 300*x[GoldBrick] + x[Ring] + 200*x[Urn] + 100*x[Coin1] + 10*x[Coin2] : 400.0 :   True\n",
      "\n",
      "4 Declarations: ITEMS x value weight\n"
     ]
    }
   ],
   "source": [
    "M.pprint()"
   ]
  },
  {
   "cell_type": "code",
   "execution_count": 11,
   "metadata": {},
   "outputs": [
    {
     "data": {
      "text/plain": [
       "{'Problem': [{'Name': 'unknown', 'Lower bound': 13000.0, 'Upper bound': 13000.0, 'Number of objectives': 1, 'Number of constraints': 2, 'Number of variables': 6, 'Number of nonzeros': 6, 'Sense': 'maximize'}], 'Solver': [{'Status': 'ok', 'Termination condition': 'optimal', 'Statistics': {'Branch and bound': {'Number of bounded subproblems': '1', 'Number of created subproblems': '1'}}, 'Error rc': 0, 'Time': 0.044152021408081055}], 'Solution': [OrderedDict([('number of solutions', 0), ('number of solutions displayed', 0)])]}"
      ]
     },
     "execution_count": 11,
     "metadata": {},
     "output_type": "execute_result"
    }
   ],
   "source": [
    "solver = SolverFactory('glpk')\n",
    "solver.solve(M)\n"
   ]
  },
  {
   "cell_type": "code",
   "execution_count": 12,
   "metadata": {},
   "outputs": [
    {
     "name": "stdout",
     "output_type": "stream",
     "text": [
      "   GoldBrick : 0.0\n",
      "   Ring : 1.0\n",
      "   Urn : 1.0\n",
      "   Coin1 : 1.0\n",
      "   Coin2 : 1.0\n",
      "objective: 13000.0\n"
     ]
    }
   ],
   "source": [
    "for c in value.keys():\n",
    "    print('  ', c, ':', M.x[c]())\n",
    "print(\"objective:\",M.value())\n",
    "# print(M.x[c])"
   ]
  },
  {
   "cell_type": "code",
   "execution_count": null,
   "metadata": {},
   "outputs": [],
   "source": []
  },
  {
   "cell_type": "code",
   "execution_count": null,
   "metadata": {
    "inputHidden": false,
    "outputHidden": false
   },
   "outputs": [],
   "source": []
  },
  {
   "cell_type": "code",
   "execution_count": null,
   "metadata": {
    "inputHidden": false,
    "outputHidden": false
   },
   "outputs": [],
   "source": []
  }
 ],
 "metadata": {
  "kernel_info": {
   "name": "python3"
  },
  "kernelspec": {
   "display_name": "Python 3",
   "language": "python",
   "name": "python3"
  },
  "language_info": {
   "codemirror_mode": {
    "name": "ipython",
    "version": 3
   },
   "file_extension": ".py",
   "mimetype": "text/x-python",
   "name": "python",
   "nbconvert_exporter": "python",
   "pygments_lexer": "ipython3",
   "version": "3.8.5"
  },
  "nteract": {
   "version": "0.14.5"
  }
 },
 "nbformat": 4,
 "nbformat_minor": 4
}
