{
 "cells": [
  {
   "cell_type": "markdown",
   "metadata": {},
   "source": [
    "# Set Covering Problem\n",
    "A hospital ER needs to keep doctors on call, so that a qualified\n",
    "individual is available to perform every medical procedure that\n",
    "might be required (there is an ocial list of such procedures). For\n",
    "each of several doctors available for on-call duty, the additional\n",
    "salary they need to be paid, and which procedures they can\n",
    "perform, is known. The goal to choose doctors so that each\n",
    "procedure is covered, at a minimum cost."
   ]
  }
 ],
 "metadata": {
  "kernelspec": {
   "display_name": "Python 3",
   "language": "python",
   "name": "python3"
  },
  "language_info": {
   "codemirror_mode": {
    "name": "ipython",
    "version": 3
   },
   "file_extension": ".py",
   "mimetype": "text/x-python",
   "name": "python",
   "nbconvert_exporter": "python",
   "pygments_lexer": "ipython3",
   "version": "3.7.3"
  }
 },
 "nbformat": 4,
 "nbformat_minor": 2
}
